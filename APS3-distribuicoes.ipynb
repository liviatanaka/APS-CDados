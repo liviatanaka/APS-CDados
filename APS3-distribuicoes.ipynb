{
 "cells": [
  {
   "cell_type": "markdown",
   "metadata": {},
   "source": [
    "**APS | Parte 3: Distribuições**\n",
    "\n",
    "Integrantes:\n",
    "* Isabelle Da Silva Santos\n",
    "* Livia Tanaka"
   ]
  },
  {
   "cell_type": "code",
   "execution_count": 2,
   "metadata": {},
   "outputs": [],
   "source": [
    "# Bibliotecas utilizadas\n",
    "import pandas as pd\n",
    "import numpy as np\n",
    "import matplotlib.pyplot as plt"
   ]
  },
  {
   "cell_type": "code",
   "execution_count": 118,
   "metadata": {},
   "outputs": [],
   "source": [
    "df_UE = pd.read_csv('dados_blocos\\c7213e95-e23f-4682-a606-09cc46b20cbf_Data.csv')\n",
    "df_OPEC = pd.read_csv('dados_blocos\\ed5d4170-6c1e-41a5-83e1-a13aceb4814e_Data.csv')\n",
    "\n",
    "filtro = ['Country Name', '2019 [YR2019]']\n",
    "df_UE = df_UE[filtro]\n",
    "df_OPEC = df_OPEC[filtro]\n",
    "\n",
    "\n",
    "def classifica(df):\n",
    "    classifica = []\n",
    "    for i in range(len(df)):\n",
    "        nivel = df.loc[i]['2019 [YR2019]'] \n",
    "        if nivel == '..':\n",
    "            classifica.append('sem dados')\n",
    "        elif float(nivel) <= 9.9:\n",
    "            classifica.append('avancado')\n",
    "        else:\n",
    "            classifica.append('atrasado')\n",
    "\n",
    "    df['classificacao'] = classifica\n",
    "    return df\n",
    "\n",
    "df_UE = classifica(df_UE)\n",
    "df_OPEC = classifica(df_OPEC)\n",
    "\n",
    "df_UE = df_UE[df_UE['2019 [YR2019]'] != '..'][0:25]\n",
    "df_OPEC = df_OPEC[df_OPEC['2019 [YR2019]'] != '..'][0:7]\n",
    "\n"
   ]
  },
  {
   "cell_type": "code",
   "execution_count": 94,
   "metadata": {},
   "outputs": [
    {
     "name": "stdout",
     "output_type": "stream",
     "text": [
      "32 25 19\n"
     ]
    }
   ],
   "source": [
    "avancado_ue = df_UE[df_UE['classificacao'] =='avancado']\n",
    "avancado_opec = df_OPEC[df_OPEC['classificacao'] =='avancado']\n",
    "\n",
    "n_avancadoEue = len(avancado_ue)\n",
    "n_avancadoEopec = len(avancado_opec)\n",
    "n_avancado = n_avancadoEopec + n_avancadoEue\n",
    "\n",
    "n_ue = len(df_UE)\n",
    "n_opec = len(df_OPEC)\n",
    "n_total = n_opec + n_ue\n",
    "\n",
    "P_avancado = n_avancado / n_total\n",
    "print(n_total, n_ue, n_avancadoEue)"
   ]
  },
  {
   "cell_type": "code",
   "execution_count": 95,
   "metadata": {},
   "outputs": [
    {
     "name": "stdout",
     "output_type": "stream",
     "text": [
      "Probabilidade de um país da União Europeia ser avançado: 0.76\n",
      "Probabilidade de um país avançado ser da União Europeia: 1.0\n"
     ]
    }
   ],
   "source": [
    "# P(avançado|União Europeia)\n",
    "\n",
    "P_avancadoEue = n_avancadoEue / n_total\n",
    "P_ue = n_ue / n_total\n",
    "\n",
    "P_avancado_dado_ue = P_avancadoEue/ P_ue\n",
    "print(f'Probabilidade de um país da União Europeia ser avançado: {P_avancado_dado_ue}')\n",
    "\n",
    "# P(União Europeia|avancado) a partir do Teorema de Bayes\n",
    "P_ue_dado_avancado = P_avancadoEue / P_avancado\n",
    "print(f'Probabilidade de um país avançado ser da União Europeia: {P_ue_dado_avancado}')\n"
   ]
  },
  {
   "cell_type": "code",
   "execution_count": 96,
   "metadata": {},
   "outputs": [
    {
     "name": "stdout",
     "output_type": "stream",
     "text": [
      "Probabilidade de um país da Organização dos Países Exportadores de Petróleo ser avançado: 0.0\n",
      "Probabilidade de um país avançado ser da OPEC: 0.0\n"
     ]
    }
   ],
   "source": [
    "# P(avançado|OPEC)\n",
    "P_avancadoEopec = n_avancadoEopec / n_total\n",
    "P_opec = n_opec / n_total\n",
    "\n",
    "P_avancado_dado_opec = P_avancadoEopec/ P_opec\n",
    "print(f'Probabilidade de um país da Organização dos Países Exportadores de Petróleo ser avançado: {P_avancado_dado_opec}')\n",
    "\n",
    "# P(OPEC|avancado) a partir do Teorema de Bayes\n",
    "P_opec_dado_avancado = P_avancadoEopec / P_avancado\n",
    "print(f'Probabilidade de um país avançado ser da OPEC: {P_opec_dado_avancado}')\n"
   ]
  },
  {
   "cell_type": "code",
   "execution_count": 138,
   "metadata": {},
   "outputs": [],
   "source": [
    "# sistema que classifica países como participantes de algum bloco à partir da informação \n",
    "# de eles serem avançados ou não em relação à taxa deinsegurança severa\n",
    "def classifica_dado_avancado(classificacao):\n",
    "    if classificacao == 'avancado':\n",
    "        return 'União Europeia'\n",
    "    else:\n",
    "        return 'Organização dos Países Exportadores de Petróleo'\n"
   ]
  },
  {
   "cell_type": "code",
   "execution_count": 140,
   "metadata": {},
   "outputs": [
    {
     "name": "stdout",
     "output_type": "stream",
     "text": [
      "Dos 32 países, 26 obtiveram a classificação do bloco adequada, assim resultando em uma acurácia de 0.8125.\n"
     ]
    }
   ],
   "source": [
    "# contagem de acertos do sistema\n",
    "certos = {'avancado UE': 0, 'atrasado UE': 0, 'avancado OPEC': 0, 'atrasado OPEC': 0}\n",
    "indices_UE = df_UE.index.values.tolist()\n",
    "indices_OPEC = df_OPEC.index.values.tolist()\n",
    "for i in range(n_ue):\n",
    "    a = indices_UE[i]\n",
    "    classifica1 = df_UE.loc[a]['classificacao']\n",
    "    if i < n_opec:\n",
    "        b = indices_OPEC[i]\n",
    "        classifica2 = df_OPEC.loc[b]['classificacao']\n",
    "        if classifica_dado_avancado(classifica2) == 'Organização dos Países Exportadores de Petróleo':\n",
    "            if classifica2 == 'avancado':\n",
    "                certos['avancado OPEC'] += 1\n",
    "            else:\n",
    "                certos['atrasado OPEC'] += 1\n",
    "    if classifica_dado_avancado(classifica1) == 'União Europeia':\n",
    "        if classifica1 == 'avancado':\n",
    "            certos['avancado UE'] += 1\n",
    "        else:\n",
    "            certos['atrasado UE'] += 1\n",
    "\n",
    "n_certos = sum(certos.values())\n",
    "acuracia = n_certos/n_total\n",
    "print(f'Dos {n_total} países, {n_certos} obtiveram a classificação do bloco adequada, assim resultando em uma acurácia de {acuracia}.')\n"
   ]
  },
  {
   "cell_type": "code",
   "execution_count": 141,
   "metadata": {},
   "outputs": [
    {
     "name": "stdout",
     "output_type": "stream",
     "text": [
      "A probabilidade de acerto da classificação na União Europeia é de 0.76\n",
      "A probabilidade de acerto da classificação na Organização dos Países Exportadores de Petróleo é de 1.0\n"
     ]
    }
   ],
   "source": [
    "# Probabilidade de acertos na classificação (acurácia por classe) para cada um dos blocos econômicos\n",
    "\n",
    "# União Europeia\n",
    "P_acerto_av_UE = certos['avancado UE']/n_avancadoEue\n",
    "P_acerto_at_UE = certos['atrasado UE']/(n_ue - n_avancadoEue)\n",
    "\n",
    "P_acerto_UE = (certos['atrasado UE'] + certos['avancado UE'])/ n_ue\n",
    "print(f'A probabilidade de acerto da classificação na União Europeia é de {P_acerto_UE}')\n",
    "\n",
    "# P_acerto_av_OPEC = certos['avancado OPEC']/n_avancadoEopec, como seria uma divisão de 0 por 0 pode-se dizer que a probabilidade é de 100% de acerto\n",
    "P_acerto_av_OPEC = 1.0\n",
    "P_acerto_at_OPEC = certos['atrasado OPEC']/(n_opec - n_avancadoEopec)\n",
    "\n",
    "P_acerto_OPEC = (certos['atrasado OPEC'] + certos['avancado OPEC'])/n_opec\n",
    "\n",
    "print(f'A probabilidade de acerto da classificação na Organização dos Países Exportadores de Petróleo é de {P_acerto_OPEC}')\n",
    "\n"
   ]
  }
 ],
 "metadata": {
  "kernelspec": {
   "display_name": "Python 3.10.2 64-bit",
   "language": "python",
   "name": "python3"
  },
  "language_info": {
   "codemirror_mode": {
    "name": "ipython",
    "version": 3
   },
   "file_extension": ".py",
   "mimetype": "text/x-python",
   "name": "python",
   "nbconvert_exporter": "python",
   "pygments_lexer": "ipython3",
   "version": "3.10.2"
  },
  "orig_nbformat": 4,
  "vscode": {
   "interpreter": {
    "hash": "6c48627603363f23ad911ec4a91dbb51af42bd99b325b2e172c6699ffcf25f74"
   }
  }
 },
 "nbformat": 4,
 "nbformat_minor": 2
}
