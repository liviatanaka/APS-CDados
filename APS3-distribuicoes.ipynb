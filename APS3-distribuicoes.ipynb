{
 "cells": [
  {
   "cell_type": "markdown",
   "metadata": {},
   "source": [
    "**APS | Parte 3: Distribuições**\n",
    "\n",
    "Integrantes:\n",
    "* Isabelle Da Silva Santos\n",
    "* Livia Tanaka"
   ]
  },
  {
   "cell_type": "code",
   "execution_count": 17,
   "metadata": {},
   "outputs": [],
   "source": [
    "# Bibliotecas utilizadas\n",
    "import pandas as pd\n",
    "import matplotlib.pyplot as plt"
   ]
  },
  {
   "cell_type": "code",
   "execution_count": 18,
   "metadata": {},
   "outputs": [],
   "source": [
    "df_UE = pd.read_csv('dados_blocos\\c7213e95-e23f-4682-a606-09cc46b20cbf_Data.csv')\n",
    "df_OPEP = pd.read_csv('dados_blocos\\ed5d4170-6c1e-41a5-83e1-a13aceb4814e_Data.csv')\n",
    "\n",
    "filtro = ['Country Name', '2019 [YR2019]']\n",
    "df_UE = df_UE[filtro]\n",
    "df_OPEP = df_OPEP[filtro]\n",
    "\n",
    "\n",
    "def classifica(df):\n",
    "    classifica = []\n",
    "    for i in range(len(df)):\n",
    "        nivel = df.loc[i]['2019 [YR2019]'] \n",
    "        if nivel == '..':\n",
    "            classifica.append('sem dados')\n",
    "        elif float(nivel) <= 9.9:\n",
    "            classifica.append('avancado')\n",
    "        else:\n",
    "            classifica.append('atrasado')\n",
    "\n",
    "    df['classificacao'] = classifica\n",
    "    return df\n",
    "\n",
    "df_UE = classifica(df_UE)\n",
    "df_OPEP = classifica(df_OPEP)\n",
    "\n",
    "df_UE = df_UE[df_UE['2019 [YR2019]'] != '..'][0:25]\n",
    "df_OPEP = df_OPEP[df_OPEP['2019 [YR2019]'] != '..'][0:7]\n",
    "\n",
    "\n"
   ]
  },
  {
   "cell_type": "code",
   "execution_count": 19,
   "metadata": {},
   "outputs": [],
   "source": [
    "avancado_ue = df_UE[df_UE['classificacao'] =='avancado']\n",
    "avancado_opep = df_OPEP[df_OPEP['classificacao'] =='avancado']\n",
    "\n",
    "n_avancadoEue = len(avancado_ue)\n",
    "n_avancadoEopep = len(avancado_opep)\n",
    "n_avancado = n_avancadoEopep + n_avancadoEue\n",
    "\n",
    "n_UE = len(df_UE)\n",
    "n_OPEP = len(df_OPEP)\n",
    "n_total = n_OPEP + n_UE\n",
    "\n",
    "P_avancado = n_avancado / n_total\n"
   ]
  },
  {
   "cell_type": "code",
   "execution_count": 20,
   "metadata": {},
   "outputs": [
    {
     "name": "stdout",
     "output_type": "stream",
     "text": [
      "Probabilidade de um país da União Europeia ser avançado: 0.76\n",
      "Probabilidade de um país avançado ser da União Europeia: 1.0\n"
     ]
    }
   ],
   "source": [
    "# P(avançado|União Europeia)\n",
    "\n",
    "P_avancadoEue = n_avancadoEue / n_total\n",
    "P_UE = n_UE / n_total\n",
    "\n",
    "P_avancado_dado_ue = P_avancadoEue/ P_UE\n",
    "print(f'Probabilidade de um país da União Europeia ser avançado: {P_avancado_dado_ue}')\n",
    "\n",
    "# P(União Europeia|avançado) a partir do Teorema de Bayes\n",
    "P_ue_dado_avancado = P_avancadoEue / P_avancado\n",
    "print(f'Probabilidade de um país avançado ser da União Europeia: {P_ue_dado_avancado}')\n"
   ]
  },
  {
   "cell_type": "code",
   "execution_count": 21,
   "metadata": {},
   "outputs": [
    {
     "name": "stdout",
     "output_type": "stream",
     "text": [
      "Probabilidade de um país da Organização dos Países Exportadores de Petróleo ser avançado: 0.0\n",
      "Probabilidade de um país avançado ser da OPEP: 0.0\n"
     ]
    }
   ],
   "source": [
    "# P(avançado|OPEP)\n",
    "P_avancadoEopep = n_avancadoEopep / n_total\n",
    "P_OPEP = n_OPEP / n_total\n",
    "\n",
    "P_avancado_dado_opep = P_avancadoEopep/ P_OPEP\n",
    "print(f'Probabilidade de um país da Organização dos Países Exportadores de Petróleo ser avançado: {P_avancado_dado_opep}')\n",
    "\n",
    "# P(OPEP|avancado) a partir do Teorema de Bayes\n",
    "P_opep_dado_avancado = P_avancadoEopep / P_avancado\n",
    "print(f'Probabilidade de um país avançado ser da OPEP: {P_opep_dado_avancado}')\n"
   ]
  },
  {
   "cell_type": "code",
   "execution_count": 22,
   "metadata": {},
   "outputs": [],
   "source": [
    "# sistema que classifica países como participantes de algum bloco à partir da informação \n",
    "# de eles serem avançados ou não em relação à taxa deinsegurança severa\n",
    "def classifica_dado_avancado(classificacao):\n",
    "    if classificacao == 'avancado':\n",
    "        return 'UE'\n",
    "    else:\n",
    "        return 'OPEP'\n"
   ]
  },
  {
   "cell_type": "code",
   "execution_count": 23,
   "metadata": {},
   "outputs": [
    {
     "name": "stdout",
     "output_type": "stream",
     "text": [
      "Dos 32 países, 26 obtiveram a classificação do bloco adequada, assim resultando em uma acurácia de 0.8125.\n"
     ]
    }
   ],
   "source": [
    "# contagem de acertos do sistema\n",
    "certos = {'avancado UE': 0, 'atrasado UE': 0, 'avancado OPEP': 0, 'atrasado OPEP': 0}\n",
    "indices_UE = df_UE.index.values.tolist()\n",
    "indices_OPEP = df_OPEP.index.values.tolist()\n",
    "for i in range(n_UE):\n",
    "    a = indices_UE[i]\n",
    "    classifica1 = df_UE.loc[a]['classificacao']\n",
    "    if i < n_OPEP:\n",
    "        b = indices_OPEP[i]\n",
    "        classifica2 = df_OPEP.loc[b]['classificacao']\n",
    "        if classifica_dado_avancado(classifica2) == 'OPEP':\n",
    "            if classifica2 == 'avancado':\n",
    "                certos['avancado OPEP'] += 1\n",
    "            else:\n",
    "                certos['atrasado OPEP'] += 1\n",
    "    if classifica_dado_avancado(classifica1) == 'UE':\n",
    "        if classifica1 == 'avancado':\n",
    "            certos['avancado UE'] += 1\n",
    "        else:\n",
    "            certos['atrasado UE'] += 1\n",
    "\n",
    "n_certos = sum(certos.values())\n",
    "acuracia = n_certos/n_total\n",
    "print(f'Dos {n_total} países, {n_certos} obtiveram a classificação do bloco adequada, assim resultando em uma acurácia de {acuracia}.')\n"
   ]
  },
  {
   "cell_type": "code",
   "execution_count": 24,
   "metadata": {},
   "outputs": [
    {
     "name": "stdout",
     "output_type": "stream",
     "text": [
      "A probabilidade de acerto da classificação na União Europeia é de 0.76\n",
      "A probabilidade de acerto da classificação na Organização dos Países Exportadores de Petróleo é de 1.0\n"
     ]
    }
   ],
   "source": [
    "# Probabilidade de acertos na classificação (acurácia por classe) para cada um dos blocos econômicos\n",
    "\n",
    "# União Europeia\n",
    "\n",
    "P_acerto_UE = (certos['atrasado UE'] + certos['avancado UE'])/ n_UE\n",
    "print(f'A probabilidade de acerto da classificação na União Europeia é de {P_acerto_UE}')\n",
    "\n",
    "\n",
    "# Organização dos Países Exportadores de Petróleo\n",
    "P_acerto_OPEP = (certos['atrasado OPEP'] + certos['avancado OPEP'])/n_OPEP\n",
    "print(f'A probabilidade de acerto da classificação na Organização dos Países Exportadores de Petróleo é de {P_acerto_OPEP}')\n",
    "\n"
   ]
  },
  {
   "cell_type": "code",
   "execution_count": 25,
   "metadata": {},
   "outputs": [
    {
     "data": {
      "image/png": "[encoded data removed]",
      "text/plain": [
       "<Figure size 504x216 with 1 Axes>"
      ]
     },
     "metadata": {
      "needs_background": "light"
     },
     "output_type": "display_data"
    }
   ],
   "source": [
    "df = pd.DataFrame()\n",
    "df['Blocos'] = ['UE', 'OPEP']\n",
    "df =df.set_index('Blocos')\n",
    "df['Avançados'] = [n_avancadoEue,n_avancadoEopep]\n",
    "df['Atrasados'] = [n_UE - n_avancadoEue,n_OPEP -n_avancadoEopep]\n",
    "df.head()\n",
    "\n",
    "\n",
    "df.plot.bar(stacked=True, figsize=(7,3))\n",
    "plt.ylabel('Número de países')\n",
    "plt.xlabel('Blocos econômicos')\n",
    "plt.title('Distribuição dos países de acordo com o índice de insegurança alimentar')\n",
    "plt.xticks(rotation=0)\n",
    "plt.show()"
   ]
  },
  {
   "cell_type": "markdown",
   "metadata": {},
   "source": [
    "**ANÁLISE**\n",
    "\n",
    "A partir do indicador de insegurança alimentar proposto anteriormente, visamos demonstrar se o mesmo é um bom preditor para blocos econômicos. Desse modo, uma das organizações selecionadas para a análise em questão corresponde a União Europeia (UE), a qual é considerada o principal bloco econômico do mundo que teve sua criação a partir do [“agrupamento gradual de diversos países europeus em torno de um objetivo econômico comum”](https://mundoeducacao.uol.com.br/geografia/uniao-europeia.htm). Em suma, a necessidade de reconstruir a Europa no período pós-guerra ocasionou na cooperação entre países que objetivavam fortalecer a segurança e o poderio militar, além de evitar conflitos entre nações que compartilham de aspectos semelhantes.\n",
    "\n",
    "Logo, acontecimentos como a criação da Comunidade Europeia do Carvão e Aço, os Tratados de Roma e o nascimento do Parlamento Europeu propiciaram que, em 1991, ocorresse a fundação oficial do bloco. Atualmente, o mesmo conta com 27 Estados-membros, os quais estão inseridos em um mercado único de integração econômico-comercial onde há uma livre circulação de bens, capitais, serviços e trabalhadores. \n",
    "\n",
    "Sendo o segundo bloco econômico escolhido para a análise proposta, a OPEP (Organização dos Países Exportadores de Petróleo) foi criada em 1960 a partir do objetivo de constituir uma integração na política de petróleo. Ela abrange interesses relacionados à exploração, produção e exportação do petróleo. \n",
    "\n",
    "Primordialmente, a organização visava combater o monopólio e o lucro exacerbado do conglomerado de empresas petrolíferas conhecidas como “Sete Irmãs”. Em seu estatuto, a OPEP [\"garante que os preços do petróleo oriundo de seus países-membros sejam praticados de forma conjunta e equilibrada.\"](https://brasilescola.uol.com.br/geografia/opep.htm#:~:text=Fun%C3%A7%C3%A3o%20da%20Opep,-Em%20seu%20estatuto&text=Dessa%20forma%2C%20%C3%A9%20uma%20organiza%C3%A7%C3%A3o,petr%C3%B3leo%2C%20sua%20produ%C3%A7%C3%A3o%20e%20distribui%C3%A7%C3%A3o.) \n",
    "Assim, as diretrizes que regem o bloco propiciam uma valorização dos royalties e um aumento de tributos, os quais geram muitos ganhos econômicos aos países membros. Ademais, por ser a fonte de energia mais importante, a economia mundial é bastante dependente do petróleo, logo, oscilações bruscas nos preços afetam toda a economia mundial, podendo influenciar no ritmo de crescimento global, fator que torna a OPEP uma organização muito poderosa. \n",
    "\n",
    "Analisamos o indicador de insegurança alimentar dos Estados-membros de cada bloco para classificá-los como avançados ou atrasados. Esse critério foi baseado na escala do nível de gravidade do [Índice Global da Fome (IGF)](https://www.globalhungerindex.org/pdf/pt/2021.pdf), cuja pontuação vai de 0 a 100 pontos, na qual apenas pontuações menores ou iguais a 9.9 são consideradas de baixa gravidade. Por isso, a classificação escolhida delimita que os países “avançados” possuem nível de insegurança alimentar abaixo ou igual a 9.9, e os demais países são classificados como “atrasados”.\n",
    "\n",
    "Concluímos que a probabilidade de acerto da classificação na União Europeia é de 0.76. Já a probabilidade de acerto da classificação na Organização dos Países Exportadores de Petróleo é de 1.0. Além disso, dos 32 países, 26 obtiveram a classificação do bloco correta, assim resultando em uma acurácia de 0.8125. Infere-se, portanto, que o indicador “Prevalência De Insegurança Alimentar Grave Na População (%)” é um bom preditor para classificar os países dos blocos."
   ]
  },
  {
   "cell_type": "markdown",
   "metadata": {},
   "source": [
    "**FONTES**\n",
    "\n",
    "BEZERRA, Juliana. Blocos Econômicos. Disponível em:\n",
    "https://www.todamateria.com.br/blocos-economicos/#:~:text=O%20que%20s%C3%A3o%20blocos%20econ%C3%B4micos,redu%C3%A7%C3%A3o%20ou%20elimina%C3%A7%C3%A3o%20de%20impostos Acessado 28/10/2022.\n",
    "\n",
    "CAMPOS, Mateus. União Europeia. Disponível em: https://mundoeducacao.uol.com.br/geografia/uniao-europeia.htm. Acessado 28/10/2022.\n",
    "\n",
    "EXAME. União Europeia: o que é e quais países fazem parte do bloco?. 16 de agosto de 2022. Disponível em: https://exame.com/invest/guia/uniao-europeia-o-que-e-e-quais-paises-fazem-parte-do-bloco/ Acessado 28/10/2022.\n",
    "\n",
    "MATIAS, Átila. Organização dos Países Exportadores de Petróleo (Opep). Disponível em: https://brasilescola.uol.com.br/geografia/opep.htm . Acessado em 28/10/2022.\n",
    "\n",
    "PARLAMENTO EUROPEU. Vantagens e benefícios de fazer parte da União Europeia, 16 de fevereiro de 2018. Disponível em: https://www.europarl.europa.eu/news/pt/headlines/priorities/beneficios-da-ue Acessado 28/10/2022.\n",
    "\n",
    "PARLAMENTO EUROPEU. História da UE. Disponível em: https://european-union.europa.eu/principles-countries-history/history-eu_pt Acessado 28/10/2022.\n",
    "\n",
    "POLITIZE!. OPEP: o que é e qual a sua importância?, 27 de julho de 2020. Disponível em: https://www.politize.com.br/opep-o-que-e/ Acessado 28/10/2022.\n",
    "\n",
    "UOL EDUCAÇÃO. União Européia - Bloco político e econômico reúne 27 países. Disponível em:\n",
    "https://educacao.uol.com.br/disciplinas/geografia/uniao-europeia-bloco-politico-e-economico-reune-27-paises.htm Acessado 28/10/2022.\n",
    "\n",
    "VIANA, Emily. Blocos econômicos – o que são, quais são e para que servem? 18 de setembro de 2019. Disponível em: https://conhecimentocientifico.com/blocos-economicos/ Acessado 28/10/2022.\n",
    "\n"
   ]
  },
  {
   "cell_type": "markdown",
   "metadata": {},
   "source": [
    "**APS | Parte 2: Correlações**\n",
    "\n",
    "**Tabela indicando quais foram as modificações feitas na entrega anterior para contemplar o feedback que foi recebido:**\n",
    "\n",
    "**FEEDBACK** \n",
    "\n",
    "Comentarios 1: \"Bom trabalho e boa análise. Uma correção pontual: a frase inicial (\"Os cálculos mostram que o Afeganistão, país com um dos piores índices de insegurança alimentar, possui uma covariância de -0.25 e uma correlação de aproximadamente -0.96...\") parece indicar que a correlação de -0.96 contribui para pensar que um dos indicadores fica constante, mas somente a covariância é que dá essa indicação. A correlação negativa indica que quando um aumenta o outro diminui, mas, pelo gráfico e pela covariância, vemos que essa diminuição é muito pequena.\"\n",
    "\n",
    "**As palavras destacadas em <span style=\"color:violet\">violeta</span> no texto a seguir representam quais foram as modificações feitas na entrega anterior para contemplar o feedback que foi recebido.**\n",
    "\n"
   ]
  },
  {
   "cell_type": "markdown",
   "metadata": {},
   "source": [
    "\n",
    "**ANTES**\n",
    "\n",
    "Os cálculos mostram que o Afeganistão, país com um dos piores índices de insegurança alimentar, possui uma covariância de -0.25 e uma correlação de aproximadamente -0.96, representando uma correlação negativa quase perfeita. Isso quer dizer que, ao contrário de nossa hipótese, conforme a insegurança alimentar aumenta a mortalidade se mantém constante, tendência observada no gráfico. Dessa forma, entendemos que a mortalidade em decorrência das doenças em questão podem estar relacionadas a outro indicador, proveniente, como a instabilidade geopolítica que o país vem enfrentando. Já o Brasil, possui uma correlação e covariância de, respectivamente, -0,55 e -0,1500, tendo o comportamento de seus gráficos bastante distinto. Por fim, a Noruega, país com um dos menores índices de insegurança alimentar, possui uma correlação de 0,79 e uma covariância de 0,02, fator que revela a existência de correlação positiva entre os indicadores analisados, entretanto, a covariância é mínima.\n",
    "\n",
    "**DEPOIS**\n",
    "\n",
    "Os cálculos mostram que o Afeganistão, país com um dos piores índices de insegurança alimentar, possui uma covariância de -0.25 e uma correlação de aproximadamente -0.96, representando uma correlação negativa quase perfeita. Isso quer dizer que, ao contrário de nossa hipótese, conforme a insegurança alimentar aumenta, a mortalidade se mantém constante, tendência observada no gráfico,<span style=\"color:violet\"> apesar de ter uma correlação próxima de -1, a baixa covariância indica que tal relação é de baixa magnitude</span>. Dessa forma, entendemos que a mortalidade em decorrência das doenças em questão podem estar relacionadas a outro indicador, como a instabilidade geopolítica que o país vem enfrentando. Já o Brasil, possui uma correlação e covariância de, respectivamente, -0,55 e -0,1500, tendo o comportamento de seus gráficos bastante distinto. Por fim, a Noruega, país com um dos menores índices de insegurança alimentar, possui uma correlação de 0,79 e uma covariância de 0,02, fator que revela a existência de correlação positiva entre os indicadores analisados, entretanto, a covariância é mínima.\n",
    "\n"
   ]
  }
 ],
 "metadata": {
  "kernelspec": {
   "display_name": "Python 3.10.2 64-bit",
   "language": "python",
   "name": "python3"
  },
  "language_info": {
   "codemirror_mode": {
    "name": "ipython",
    "version": 3
   },
   "file_extension": ".py",
   "mimetype": "text/x-python",
   "name": "python",
   "nbconvert_exporter": "python",
   "pygments_lexer": "ipython3",
   "version": "3.10.2"
  },
  "orig_nbformat": 4,
  "vscode": {
   "interpreter": {
    "hash": "6c48627603363f23ad911ec4a91dbb51af42bd99b325b2e172c6699ffcf25f74"
   }
  }
 },
 "nbformat": 4,
 "nbformat_minor": 2
}
