{
 "cells": [
  {
   "cell_type": "markdown",
   "metadata": {},
   "source": [
    "**APS | Parte 2: Correlações**\n",
    "\n",
    "Integrantes:\n",
    "* Isabelle Da Silva Santos\n",
    "* Livia Tanaka"
   ]
  },
  {
   "cell_type": "markdown",
   "metadata": {},
   "source": [
    "**ANÁLISE**"
   ]
  },
  {
   "cell_type": "markdown",
   "metadata": {},
   "source": [
    "**FONTES**"
   ]
  },
  {
   "cell_type": "markdown",
   "metadata": {},
   "source": [
    "##### As palavras destacadas em <span style ='color:Violet'>violeta</span> no texto a seguir representam quais foram as modificações feitas na entrega anterior para contemplar o feedback que foi recebido. "
   ]
  },
  {
   "cell_type": "markdown",
   "metadata": {},
   "source": [
    "**INTRODUÇÃO**\n",
    "\n",
    "Os Objetivos de Desenvolvimento Sustentável (ODS), estabelecidos pela Organização das Nações Unidas (ONU) em 2015, propõe aos 193 Estados-membros da ONU a adoção de um plano de ação global que definiu um quadro de 17 objetivos a serem trabalhados pelas nações até o ano de 2030. Desse modo, a agenda 2030 abrange três principais <span style ='color:Violet'> áreas</span> para o desenvolvimento sustentável, são eles: social, ambiental e econômico. De acordo com a ONU, o segundo ODS, denominado como “Fome zero e Agricultura Sustentável”, tem por objetivo  “Erradicar a fome, alcançar a segurança alimentar, melhorar a nutrição e promover a agricultura sustentável”. \n",
    "\n",
    "Sendo a primeira meta do ODS em questão, a erradicação da fome é <span style ='color:Violet'>essencial</span> para o estabelecimento de uma sociedade sustentável, tendo em vista que o acesso à alimentação adequada é um direito humano básico <span style ='color:Violet'>previsto</span> no artigo 25 da Declaração Universal dos Direitos Humanos. \n",
    "\n",
    "Ademais, o consumo de alimentos saudáveis na primeira infância – do nascimento até completar 6 anos -, segundo a Unicef, é essencial para o crescimento ideal do corpo e cérebro, de modo que, possibilita que a criança alcance todo seu potencial de desenvolvimento. <span style ='color:Violet'>Entretanto</span>, a desnutrição infantil é prejudicial, especialmente no que <span style ='color:Violet'>diz respeito ao</span> comprometimento da aprendizagem, <span style ='color:Violet'>através</span> do mau desenvolvimento cerebral, além do risco à baixa imunidade, elevando a ocorrência de infecções que, por vezes, podem levar à morte. \n",
    "\n",
    "Nesse sentido, é <span style ='color:Violet'>importante</span> enfatizar que a fome e a subnutrição afeta também na <span style ='color:Violet'>tendência</span> da população adulta desenvolver doenças, bem como na redução da produtividade, principal responsável pela geração de riqueza para as nações. Além disso, tal fator ainda impede o aumento da renda e, consequentemente, <span style ='color:Violet'>atrapalha</span> a melhoria dos meios de vida da população. \n",
    "\n",
    "Desse modo, com o <span style ='color:Violet'>intuito</span> de monitorar a evolução das medidas adotadas pelos países para o comprimento do objetivo, o Banco Mundial publica uma extensa base de dados sobre aspectos atrelados aos ODS. Nesse acervo, um dos indicadores que mede o desempenho do segundo objetivo é a “Prevalência De Insegurança Alimentar Grave Na População (%)”. De acordo com a professora da Faculdade de Medicina da UFMG, Elaine Machado, “a insegurança alimentar não é só a falta, mas também a substituição de alimentos ricos em nutrientes e vitaminas, por alimentos mais baratos, …, na tentativa de compensar o preço dos alimentos\". Com isso, tal indicador é uma forma de <span style ='color:Violet'>avaliar</span> o sucesso das metas deste ODS: o alcance da segurança alimentar e, consequentemente, a erradicação da fome, já que quanto menor o índice de insegurança alimentar de determinado país, mais próximo essa nação está do objetivo estabelecido.\n",
    "\n",
    "Portanto, conclui-se que, os ODS de “Fome zero e Agricultura Sustentável” é de extrema relevância para que as nações atinjam as demais metas, visto que, a mesma impacta em diversos fatores relacionados ao fim da pobreza, proteção do meio ambiente e clima, além da garantia de que as todas as pessoas possam desfrutar da paz e prosperidade."
   ]
  }
 ],
 "metadata": {
  "kernelspec": {
   "display_name": "Python 3.10.2 64-bit",
   "language": "python",
   "name": "python3"
  },
  "language_info": {
   "codemirror_mode": {
    "name": "ipython",
    "version": 3
   },
   "file_extension": ".py",
   "mimetype": "text/x-python",
   "name": "python",
   "nbconvert_exporter": "python",
   "pygments_lexer": "ipython3",
   "version": "3.10.2"
  },
  "orig_nbformat": 4,
  "vscode": {
   "interpreter": {
    "hash": "de8d82a537434c4fa43e6d3a8b7a40c5d4b20c1d227b20a89f1f47ce0d6131e1"
   }
  }
 },
 "nbformat": 4,
 "nbformat_minor": 2
}
