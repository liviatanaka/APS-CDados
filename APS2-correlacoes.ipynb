{
 "cells": [
  {
   "cell_type": "markdown",
   "metadata": {},
   "source": [
    "**APS | Parte 2: Correlações**\n",
    "\n",
    "Integrantes:\n",
    "* Isabelle Da Silva Santos\n",
    "* Livia Tanaka"
   ]
  },
  {
   "cell_type": "code",
   "execution_count": 2,
   "metadata": {},
   "outputs": [
    {
     "data": {
      "text/html": [
       "<div>\n",
       "<style scoped>\n",
       "    .dataframe tbody tr th:only-of-type {\n",
       "        vertical-align: middle;\n",
       "    }\n",
       "\n",
       "    .dataframe tbody tr th {\n",
       "        vertical-align: top;\n",
       "    }\n",
       "\n",
       "    .dataframe thead th {\n",
       "        text-align: right;\n",
       "    }\n",
       "</style>\n",
       "<table border=\"1\" class=\"dataframe\">\n",
       "  <thead>\n",
       "    <tr style=\"text-align: right;\">\n",
       "      <th></th>\n",
       "      <th>Country Name</th>\n",
       "      <th>2015 [YR2015]</th>\n",
       "      <th>2016 [YR2016]</th>\n",
       "      <th>2017 [YR2017]</th>\n",
       "      <th>2018 [YR2018]</th>\n",
       "      <th>2019 [YR2019]</th>\n",
       "    </tr>\n",
       "  </thead>\n",
       "  <tbody>\n",
       "    <tr>\n",
       "      <th>0</th>\n",
       "      <td>Brazil</td>\n",
       "      <td>1.9</td>\n",
       "      <td>1.8</td>\n",
       "      <td>1.7</td>\n",
       "      <td>1.6</td>\n",
       "      <td>3.5</td>\n",
       "    </tr>\n",
       "    <tr>\n",
       "      <th>1</th>\n",
       "      <td>Norway</td>\n",
       "      <td>1.1</td>\n",
       "      <td>1.2</td>\n",
       "      <td>1.1</td>\n",
       "      <td>1.1</td>\n",
       "      <td>1.0</td>\n",
       "    </tr>\n",
       "    <tr>\n",
       "      <th>2</th>\n",
       "      <td>Afghanistan</td>\n",
       "      <td>14.8</td>\n",
       "      <td>15.1</td>\n",
       "      <td>17.3</td>\n",
       "      <td>17.3</td>\n",
       "      <td>19.8</td>\n",
       "    </tr>\n",
       "    <tr>\n",
       "      <th>3</th>\n",
       "      <td>NaN</td>\n",
       "      <td>NaN</td>\n",
       "      <td>NaN</td>\n",
       "      <td>NaN</td>\n",
       "      <td>NaN</td>\n",
       "      <td>NaN</td>\n",
       "    </tr>\n",
       "    <tr>\n",
       "      <th>4</th>\n",
       "      <td>NaN</td>\n",
       "      <td>NaN</td>\n",
       "      <td>NaN</td>\n",
       "      <td>NaN</td>\n",
       "      <td>NaN</td>\n",
       "      <td>NaN</td>\n",
       "    </tr>\n",
       "  </tbody>\n",
       "</table>\n",
       "</div>"
      ],
      "text/plain": [
       "  Country Name  2015 [YR2015]  2016 [YR2016]  2017 [YR2017]  2018 [YR2018]  \\\n",
       "0       Brazil            1.9            1.8            1.7            1.6   \n",
       "1       Norway            1.1            1.2            1.1            1.1   \n",
       "2  Afghanistan           14.8           15.1           17.3           17.3   \n",
       "3          NaN            NaN            NaN            NaN            NaN   \n",
       "4          NaN            NaN            NaN            NaN            NaN   \n",
       "\n",
       "   2019 [YR2019]  \n",
       "0            3.5  \n",
       "1            1.0  \n",
       "2           19.8  \n",
       "3            NaN  \n",
       "4            NaN  "
      ]
     },
     "execution_count": 2,
     "metadata": {},
     "output_type": "execute_result"
    }
   ],
   "source": [
    "import pandas as pd\n",
    "df_ia = pd.read_csv('dados/inseguranca_alimentar/70397afd-e704-4908-930d-3fc65e331775_Data.csv')\n",
    "df_tm = pd.read_csv('dados/taxa_mortalidade/52db136a-1fc5-4f27-ab83-5206ac756f1e_Data.csv')\n",
    " \n",
    "filtro = ['Country Name', '2015 [YR2015]','2016 [YR2016]','2017 [YR2017]', '2018 [YR2018]', '2019 [YR2019]']\n",
    "df_ia_ = df_ia[filtro]\n",
    "df_tm_ = df_tm[filtro]\n",
    "\n",
    "df_ia_.head()"
   ]
  },
  {
   "cell_type": "code",
   "execution_count": 3,
   "metadata": {},
   "outputs": [],
   "source": [
    "paises = {'Brazil': [[],[]], 'Norway':[[],[]], 'Afghanistan':[[],[]]}\n",
    "for pais in paises:\n",
    "    df_inseguranca = df_ia_[df_ia_['Country Name'] == pais]\n",
    "    df_mortalidade = df_tm_[df_tm_['Country Name'] == pais]\n",
    "    for ano in range(2015,2020):\n",
    "        data = str(ano) + ' [YR'+str(ano)+']'\n",
    "        i = df_inseguranca[data]\n",
    "        m = df_mortalidade[data]\n",
    "        paises[pais][0].append(i)\n",
    "        paises[pais][1].append(m)"
   ]
  },
  {
   "cell_type": "code",
   "execution_count": 4,
   "metadata": {},
   "outputs": [],
   "source": [
    "df_ia_ = df_ia_.set_index('Country Name')\n",
    "df_tm_ = df_tm_.set_index('Country Name')"
   ]
  },
  {
   "cell_type": "code",
   "execution_count": 5,
   "metadata": {},
   "outputs": [
    {
     "name": "stdout",
     "output_type": "stream",
     "text": [
      "             |     Brasil      Noruega    Afeganistão\n",
      "            ------------------------------------------\n",
      "COVARIÂNCIAS |     -0.150       0.020       -0.254\n",
      "CORRELAÇÕES  |     -0.560       0.791       -0.961\n"
     ]
    }
   ],
   "source": [
    "import numpy as np\n",
    "correlacoes = []\n",
    "covariancias = []\n",
    "for pais in paises:\n",
    "    df_inseguranca = pd.DataFrame(df_ia_.loc[pais])\n",
    "    df_mortalidade = pd.DataFrame(df_tm_.loc[pais])\n",
    "\n",
    "    df_inseguranca.rename(columns={str(pais): 'Insegurança Alimentar'}, inplace=True)\n",
    "    df_mortalidade.rename(columns={str(pais): 'Mortalidade'}, inplace=True)\n",
    "    \n",
    "    # ambos = pd.concat((df_inseguranca,df_mortalidade),axis=1)\n",
    "    correlacao = np.corrcoef(df_inseguranca['Insegurança Alimentar'], df_mortalidade['Mortalidade'])[0,1]\n",
    "    covariancia = np.cov(df_inseguranca['Insegurança Alimentar'], df_mortalidade['Mortalidade'])[0,1]\n",
    "\n",
    "    correlacoes.append(correlacao)\n",
    "    covariancias.append(covariancia)\n",
    "\n"
   ]
  },
  {
   "cell_type": "code",
   "execution_count": 10,
   "metadata": {},
   "outputs": [
    {
     "data": {
      "text/html": [
       "<div>\n",
       "<style scoped>\n",
       "    .dataframe tbody tr th:only-of-type {\n",
       "        vertical-align: middle;\n",
       "    }\n",
       "\n",
       "    .dataframe tbody tr th {\n",
       "        vertical-align: top;\n",
       "    }\n",
       "\n",
       "    .dataframe thead th {\n",
       "        text-align: right;\n",
       "    }\n",
       "</style>\n",
       "<table border=\"1\" class=\"dataframe\">\n",
       "  <thead>\n",
       "    <tr style=\"text-align: right;\">\n",
       "      <th></th>\n",
       "      <th>correlações</th>\n",
       "      <th>covariancias</th>\n",
       "    </tr>\n",
       "    <tr>\n",
       "      <th>países</th>\n",
       "      <th></th>\n",
       "      <th></th>\n",
       "    </tr>\n",
       "  </thead>\n",
       "  <tbody>\n",
       "    <tr>\n",
       "      <th>Brasil</th>\n",
       "      <td>-0.559503</td>\n",
       "      <td>-0.1500</td>\n",
       "    </tr>\n",
       "    <tr>\n",
       "      <th>Noruega</th>\n",
       "      <td>0.790569</td>\n",
       "      <td>0.0200</td>\n",
       "    </tr>\n",
       "    <tr>\n",
       "      <th>Afeganistão</th>\n",
       "      <td>-0.961020</td>\n",
       "      <td>-0.2535</td>\n",
       "    </tr>\n",
       "  </tbody>\n",
       "</table>\n",
       "</div>"
      ],
      "text/plain": [
       "             correlações  covariancias\n",
       "países                                \n",
       "Brasil         -0.559503       -0.1500\n",
       "Noruega         0.790569        0.0200\n",
       "Afeganistão    -0.961020       -0.2535"
      ]
     },
     "execution_count": 10,
     "metadata": {},
     "output_type": "execute_result"
    }
   ],
   "source": [
    "df = pd.DataFrame()\n",
    "df['correlações'] = correlacoes\n",
    "df['covariâncias'] = covariancias\n",
    "df['países'] = ['Brasil', 'Noruega', 'Afeganistão']\n",
    "df.set_index('países', inplace=True)\n",
    "df.head()\n"
   ]
  },
  {
   "cell_type": "code",
   "execution_count": null,
   "metadata": {},
   "outputs": [],
   "source": [
    "import matplotlib.pyplot as plt\n",
    "from matplotlib.lines import Line2D\n",
    "import pandas as pd \n",
    "\n",
    "plt.style.use('default')\n",
    "anos = list(range(2015, 2020))\n",
    "porcentagem = list(range(0,22,2))\n",
    "plt.figure(figsize=(10,7))\n",
    "plt.title('Índice de insegurança alimentar severa na população')\n",
    "\n",
    "# insegurança alimentar\n",
    "plt.plot(anos, paises['Brazil'][0], marker='.',color='b',label='Brasil')\n",
    "plt.plot(anos, paises['Norway'][0], marker='.',color='r', label='Noruega (país avançado)')\n",
    "plt.plot(anos, paises['Afghanistan'][0], marker='.',color='g', label='Afeganistão (país atrasado)')\n",
    "\n",
    "# taxa de mortalidade\n",
    "plt.plot(anos, paises['Brazil'][1], marker='.',linestyle = '--',color='b',label='Brasil')\n",
    "plt.plot(anos, paises['Norway'][1], marker='.',linestyle = '--',color='r', label='Noruega (país avançado)')\n",
    "plt.plot(anos, paises['Afghanistan'][1], marker='.',linestyle = '--',color='g', label='Afeganistão (país atrasado)')\n",
    "\n",
    "plt.xticks(anos)\n",
    "plt.xlabel('Tempo (anos)')\n",
    "plt.ylabel('População (%)')\n",
    "plt.yticks()\n",
    "# ledenda\n",
    "\n",
    "estilo1= Line2D([0,1],[0,1],linestyle='--', color='black')\n",
    "estilo2 = Line2D([0,1],[0,1],linestyle='-', color='black')\n",
    "\n",
    "cor1 = Line2D([0,1],[0,1],marker='.', color='b')\n",
    "cor2 = Line2D([0,1],[0,1],marker='.', color='r')\n",
    "cor3 = Line2D([0,1],[0,1],marker='.', color='g')\n",
    "plt.legend([estilo1, estilo2, cor1, cor2, cor3],['Taxa de mortalidade','Insegurança alimentar', 'Brasil', 'Noruega', 'Afeganistão'])\n",
    "plt.show()"
   ]
  },
  {
   "cell_type": "markdown",
   "metadata": {},
   "source": [
    "**ANÁLISE**"
   ]
  },
  {
   "cell_type": "markdown",
   "metadata": {},
   "source": [
    "**FONTES**"
   ]
  },
  {
   "cell_type": "markdown",
   "metadata": {},
   "source": [
    "##### As palavras destacadas em <span style ='color:Violet'>violeta</span> no texto a seguir representam quais foram as modificações feitas na entrega anterior para contemplar o feedback que foi recebido. "
   ]
  },
  {
   "cell_type": "markdown",
   "metadata": {},
   "source": [
    "**INTRODUÇÃO**\n",
    "\n",
    "Os Objetivos de Desenvolvimento Sustentável (ODS), estabelecidos pela Organização das Nações Unidas (ONU) em 2015, propõe aos 193 Estados-membros da ONU a adoção de um plano de ação global que definiu um quadro de 17 objetivos a serem trabalhados pelas nações até o ano de 2030. Desse modo, a agenda 2030 abrange três principais <span style ='color:Violet'> áreas</span> para o desenvolvimento sustentável, são eles: social, ambiental e econômico. De acordo com a ONU, o segundo ODS, denominado como “Fome zero e Agricultura Sustentável”, tem por objetivo  “Erradicar a fome, alcançar a segurança alimentar, melhorar a nutrição e promover a agricultura sustentável”. \n",
    "\n",
    "Sendo a primeira meta do ODS em questão, a erradicação da fome é <span style ='color:Violet'>essencial</span> para o estabelecimento de uma sociedade sustentável, tendo em vista que o acesso à alimentação adequada é um direito humano básico <span style ='color:Violet'>previsto</span> no artigo 25 da Declaração Universal dos Direitos Humanos. \n",
    "\n",
    "Ademais, o consumo de alimentos saudáveis na primeira infância – do nascimento até completar 6 anos -, segundo a Unicef, é essencial para o crescimento ideal do corpo e cérebro, de modo que, possibilita que a criança alcance todo seu potencial de desenvolvimento. <span style ='color:Violet'>Entretanto</span>, a desnutrição infantil é prejudicial, especialmente no que <span style ='color:Violet'>diz respeito ao</span> comprometimento da aprendizagem, <span style ='color:Violet'>através</span> do mau desenvolvimento cerebral, além do risco à baixa imunidade, elevando a ocorrência de infecções que, por vezes, podem levar à morte. \n",
    "\n",
    "Nesse sentido, é <span style ='color:Violet'>importante</span> enfatizar que a fome e a subnutrição afeta também na <span style ='color:Violet'>tendência</span> da população adulta desenvolver doenças, bem como na redução da produtividade, principal responsável pela geração de riqueza para as nações. Além disso, tal fator ainda impede o aumento da renda e, consequentemente, <span style ='color:Violet'>atrapalha</span> a melhoria dos meios de vida da população. \n",
    "\n",
    "Desse modo, com o <span style ='color:Violet'>intuito</span> de monitorar a evolução das medidas adotadas pelos países para o comprimento do objetivo, o Banco Mundial publica uma extensa base de dados sobre aspectos atrelados aos ODS. Nesse acervo, um dos indicadores que mede o desempenho do segundo objetivo é a “Prevalência De Insegurança Alimentar Grave Na População (%)”. De acordo com a professora da Faculdade de Medicina da UFMG, Elaine Machado, “a insegurança alimentar não é só a falta, mas também a substituição de alimentos ricos em nutrientes e vitaminas, por alimentos mais baratos, …, na tentativa de compensar o preço dos alimentos\". Com isso, tal indicador é uma forma de <span style ='color:Violet'>avaliar</span> o sucesso das metas deste ODS: o alcance da segurança alimentar e, consequentemente, a erradicação da fome, já que quanto menor o índice de insegurança alimentar de determinado país, mais próximo essa nação está do objetivo estabelecido.\n",
    "\n",
    "Portanto, conclui-se que, os ODS de “Fome zero e Agricultura Sustentável” é de extrema relevância para que as nações atinjam as demais metas, visto que, a mesma impacta em diversos fatores relacionados ao fim da pobreza, proteção do meio ambiente e clima, além da garantia de que as todas as pessoas possam desfrutar da paz e prosperidade."
   ]
  }
 ],
 "metadata": {
  "kernelspec": {
   "display_name": "Python 3.10.2 64-bit",
   "language": "python",
   "name": "python3"
  },
  "language_info": {
   "codemirror_mode": {
    "name": "ipython",
    "version": 3
   },
   "file_extension": ".py",
   "mimetype": "text/x-python",
   "name": "python",
   "nbconvert_exporter": "python",
   "pygments_lexer": "ipython3",
   "version": "3.10.2"
  },
  "orig_nbformat": 4,
  "vscode": {
   "interpreter": {
    "hash": "6c48627603363f23ad911ec4a91dbb51af42bd99b325b2e172c6699ffcf25f74"
   }
  }
 },
 "nbformat": 4,
 "nbformat_minor": 2
}
