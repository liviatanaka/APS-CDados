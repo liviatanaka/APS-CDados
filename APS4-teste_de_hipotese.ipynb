{
 "cells": [
  {
   "cell_type": "markdown",
   "metadata": {},
   "source": [
    "**APS | Parte 4: Teste de Hipótese**\n",
    "\n",
    "Integrantes:\n",
    "* Isabelle Da Silva Santos\n",
    "* Livia Tanaka"
   ]
  },
  {
   "cell_type": "code",
   "execution_count": 15,
   "metadata": {},
   "outputs": [],
   "source": [
    "# Bibliotecas utilizadas\n",
    "import pandas as pd\n",
    "import scipy.stats as stats\n",
    "import matplotlib.pyplot as plt"
   ]
  },
  {
   "cell_type": "code",
   "execution_count": 16,
   "metadata": {},
   "outputs": [],
   "source": [
    "df_UE = pd.read_csv('dados_blocos\\c7213e95-e23f-4682-a606-09cc46b20cbf_Data.csv')\n",
    "df_OPEP = pd.read_csv('dados_blocos\\ed5d4170-6c1e-41a5-83e1-a13aceb4814e_Data.csv')\n",
    "\n",
    "filtro = ['Country Name', '2019 [YR2019]']\n",
    "df_UE = df_UE[filtro]\n",
    "df_OPEP = df_OPEP[filtro]\n",
    "\n",
    "\n",
    "def classifica(df):\n",
    "    classifica = []\n",
    "    for i in range(len(df)):\n",
    "        nivel = df.loc[i]['2019 [YR2019]'] \n",
    "        if nivel == '..':\n",
    "            classifica.append('sem dados')\n",
    "        elif float(nivel) <= 9.9:\n",
    "            classifica.append('avancado')\n",
    "        else:\n",
    "            classifica.append('atrasado')\n",
    "\n",
    "    df['classificacao'] = classifica\n",
    "    return df\n",
    "\n",
    "df_UE = classifica(df_UE)\n",
    "df_OPEP = classifica(df_OPEP)\n",
    "\n",
    "df_UE = df_UE[df_UE['2019 [YR2019]'] != '..'][0:25]\n",
    "df_OPEP = df_OPEP[df_OPEP['2019 [YR2019]'] != '..'][0:7]"
   ]
  },
  {
   "cell_type": "code",
   "execution_count": 17,
   "metadata": {},
   "outputs": [],
   "source": [
    "avancado_ue = df_UE[df_UE['classificacao'] =='avancado']\n",
    "avancado_opep = df_OPEP[df_OPEP['classificacao'] =='avancado']\n",
    "\n",
    "\n",
    "n_avancadoEue = len(avancado_ue)\n",
    "n_avancadoEopep = len(avancado_opep)\n",
    "n_avancado = n_avancadoEopep + n_avancadoEue\n",
    "\n",
    "\n",
    "n_UE = len(df_UE)\n",
    "n_OPEP = len(df_OPEP)\n",
    "n_total = n_OPEP + n_UE\n",
    "\n",
    "n_atrasado = n_total - n_avancado\n",
    "P_atrasado = n_atrasado / n_total\n",
    "\n",
    "P_avancado = n_avancado / n_total\n"
   ]
  },
  {
   "cell_type": "code",
   "execution_count": null,
   "metadata": {},
   "outputs": [],
   "source": [
    "# P(avançado|União Europeia)\n",
    "\n",
    "P_avancadoEue = n_avancadoEue / n_total\n",
    "P_UE = n_UE / n_total\n",
    "\n",
    "P_avancado_dado_ue = P_avancadoEue/ P_UE\n",
    "print(f'Probabilidade de um país da União Europeia ser avançado: {P_avancado_dado_ue}')"
   ]
  },
  {
   "cell_type": "code",
   "execution_count": null,
   "metadata": {},
   "outputs": [],
   "source": [
    "# P(avançado|OPEP)\n",
    "P_avancadoEopep = n_avancadoEopep / n_total\n",
    "P_OPEP = n_OPEP / n_total\n",
    "\n",
    "P_avancado_dado_opep = P_avancadoEopep/ P_OPEP\n",
    "print(f'Probabilidade de um país da Organização dos Países Exportadores de Petróleo ser avançado: {P_avancado_dado_opep}')"
   ]
  },
  {
   "cell_type": "markdown",
   "metadata": {},
   "source": [
    "**ANÁLISE**"
   ]
  },
  {
   "cell_type": "markdown",
   "metadata": {},
   "source": [
    "**FONTES**\n"
   ]
  },
  {
   "cell_type": "code",
   "execution_count": null,
   "metadata": {},
   "outputs": [],
   "source": []
  },
  {
   "cell_type": "markdown",
   "metadata": {},
   "source": [
    "**APS | Parte 3: Distribuições**\n",
    "\n",
    "**Tabela indicando quais foram as modificações feitas na entrega anterior para contemplar o feedback que foi recebido:**\n",
    "\n",
    "**FEEDBACK** \n",
    "\n",
    "Comentarios 1: \"Faltou calcular P(bloco | não-avançado)\"\n",
    "\n"
   ]
  },
  {
   "cell_type": "code",
   "execution_count": 18,
   "metadata": {},
   "outputs": [
    {
     "name": "stdout",
     "output_type": "stream",
     "text": [
      "P( União Europeia | não-avançado ) =  0.46153846153846156\n",
      "P( OPEP | não-avançado ) =  0.5384615384615384\n"
     ]
    }
   ],
   "source": [
    "# Calculo do P(bloco | não-avançado)\n",
    "\n",
    "# P( União Europeia | não-avançado )\n",
    "n_atrasadoEue = n_UE - n_avancadoEue\n",
    "P_atrasadoEue = n_atrasadoEue / n_total\n",
    "P_ue_dado_atrasado = P_atrasadoEue/ P_atrasado\n",
    "print('P( União Europeia | não-avançado ) = ', P_ue_dado_atrasado)\n",
    "\n",
    "# P( OPEP | não-avançado )\n",
    "n_atrasadoEopep = n_OPEP - n_avancadoEopep\n",
    "P_atrasadoEopep = n_atrasadoEopep / n_total\n",
    "P_opep_dado_atrasado = P_atrasadoEopep/ P_atrasado\n",
    "print('P( OPEP | não-avançado ) = ', P_opep_dado_atrasado)"
   ]
  }
 ],
 "metadata": {
  "kernelspec": {
   "display_name": "Python 3.10.2 64-bit",
   "language": "python",
   "name": "python3"
  },
  "language_info": {
   "codemirror_mode": {
    "name": "ipython",
    "version": 3
   },
   "file_extension": ".py",
   "mimetype": "text/x-python",
   "name": "python",
   "nbconvert_exporter": "python",
   "pygments_lexer": "ipython3",
   "version": "3.10.2"
  },
  "orig_nbformat": 4,
  "vscode": {
   "interpreter": {
    "hash": "de8d82a537434c4fa43e6d3a8b7a40c5d4b20c1d227b20a89f1f47ce0d6131e1"
   }
  }
 },
 "nbformat": 4,
 "nbformat_minor": 2
}
