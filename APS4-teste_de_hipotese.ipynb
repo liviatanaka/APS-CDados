{
 "cells": [
  {
   "cell_type": "markdown",
   "metadata": {},
   "source": [
    "**APS | Parte 4: Teste de Hipótese**\n",
    "\n",
    "Integrantes:\n",
    "* Isabelle Da Silva Santos\n",
    "* Livia Tanaka"
   ]
  },
  {
   "cell_type": "code",
   "execution_count": 203,
   "metadata": {},
   "outputs": [],
   "source": [
    "# Bibliotecas utilizadas\n",
    "import pandas as pd\n",
    "import matplotlib.pyplot as plt\n",
    "import numpy as np\n",
    "import seaborn as sns"
   ]
  },
  {
   "cell_type": "code",
   "execution_count": 204,
   "metadata": {},
   "outputs": [],
   "source": [
    "df_UE = pd.read_csv('dados_blocos\\c7213e95-e23f-4682-a606-09cc46b20cbf_Data.csv')\n",
    "df_OPEP = pd.read_csv('dados_blocos\\ed5d4170-6c1e-41a5-83e1-a13aceb4814e_Data.csv')\n",
    "\n",
    "filtro = ['Country Name', '2019 [YR2019]']\n",
    "df_UE = df_UE[filtro]\n",
    "df_OPEP = df_OPEP[filtro]\n",
    "\n",
    "\n",
    "def classifica(df):\n",
    "    classifica = []\n",
    "    for i in range(len(df)):\n",
    "        nivel = df.loc[i]['2019 [YR2019]'] \n",
    "        if nivel == '..':\n",
    "            classifica.append('sem dados')\n",
    "        elif float(nivel) <= 9.9:\n",
    "            classifica.append('avancado')\n",
    "        else:\n",
    "            classifica.append('atrasado')\n",
    "\n",
    "    df['classificacao'] = classifica\n",
    "    return df\n",
    "\n",
    "df_UE = classifica(df_UE)\n",
    "df_OPEP = classifica(df_OPEP)\n",
    "\n",
    "df_UE = df_UE[df_UE['2019 [YR2019]'] != '..'][0:25]\n",
    "df_OPEP = df_OPEP[df_OPEP['2019 [YR2019]'] != '..'][0:7]"
   ]
  },
  {
   "cell_type": "code",
   "execution_count": 205,
   "metadata": {},
   "outputs": [],
   "source": [
    "avancado_ue = df_UE[df_UE['classificacao'] =='avancado']\n",
    "avancado_opep = df_OPEP[df_OPEP['classificacao'] =='avancado']\n",
    "\n",
    "\n",
    "n_avancadoEue = len(avancado_ue)\n",
    "n_avancadoEopep = len(avancado_opep)\n",
    "n_avancado = n_avancadoEopep + n_avancadoEue\n",
    "\n",
    "\n",
    "n_UE = len(df_UE)\n",
    "n_OPEP = len(df_OPEP)\n",
    "n_total = n_OPEP + n_UE\n",
    "\n",
    "n_atrasado = n_total - n_avancado\n",
    "P_atrasado = n_atrasado / n_total\n",
    "\n",
    "P_avancado = n_avancado / n_total\n"
   ]
  },
  {
   "cell_type": "code",
   "execution_count": 206,
   "metadata": {},
   "outputs": [
    {
     "name": "stdout",
     "output_type": "stream",
     "text": [
      "Probabilidade de um país da União Europeia ser avançado: 0.76\n"
     ]
    }
   ],
   "source": [
    "# P(avançado|União Europeia)\n",
    "\n",
    "P_avancadoEue = n_avancadoEue / n_total\n",
    "P_UE = n_UE / n_total\n",
    "\n",
    "P_avancado_dado_ue = P_avancadoEue/ P_UE\n",
    "print(f'Probabilidade de um país da União Europeia ser avançado: {P_avancado_dado_ue}')"
   ]
  },
  {
   "cell_type": "code",
   "execution_count": 207,
   "metadata": {},
   "outputs": [
    {
     "name": "stdout",
     "output_type": "stream",
     "text": [
      "Probabilidade de um país da Organização dos Países Exportadores de Petróleo ser avançado: 0.0\n"
     ]
    }
   ],
   "source": [
    "# P(avançado|OPEP)\n",
    "P_avancadoEopep = n_avancadoEopep / n_total\n",
    "P_OPEP = n_OPEP / n_total\n",
    "\n",
    "P_avancado_dado_opep = P_avancadoEopep/ P_OPEP\n",
    "print(f'Probabilidade de um país da Organização dos Países Exportadores de Petróleo ser avançado: {P_avancado_dado_opep}')"
   ]
  },
  {
   "cell_type": "markdown",
   "metadata": {},
   "source": [
    "Usando bootstrapping, calcule o intervalo de confiança de 90% para P(avançado|bloco) para cada bloco."
   ]
  },
  {
   "cell_type": "code",
   "execution_count": 210,
   "metadata": {},
   "outputs": [
    {
     "name": "stdout",
     "output_type": "stream",
     "text": [
      "Intervalo de confiança de 0.0 até 0.0\n",
      "Intervalo de confiança de 0.6 até 0.88\n"
     ]
    }
   ],
   "source": [
    "def bootstrapping(amostras, m):\n",
    "    probabilidades = []\n",
    "    for i in range(9999):\n",
    "        amostras_ = np.random.choice(amostras, size=m, replace=True)\n",
    "        p = 0\n",
    "        for i in amostras_:\n",
    "\n",
    "            if i <= 9.9:\n",
    "                p += 1\n",
    "\n",
    "        probabilidades.append(p/m)\n",
    "    return probabilidades, np.percentile(probabilidades, 5), np.percentile(probabilidades, 95)\n",
    "\n",
    "ue = [float(i) for i in df_UE['2019 [YR2019]']]\n",
    "opep = [float(i) for i in df_OPEP['2019 [YR2019]']]\n",
    "\n",
    "b_opep, l, h = bootstrapping(opep, len(opep))\n",
    "print(f'Intervalo de confiança de {l} até {h}')\n",
    "\n",
    "b_ue, l, h = bootstrapping(ue, len(ue))\n",
    "print(f'Intervalo de confiança de {l} até {h}')"
   ]
  },
  {
   "cell_type": "code",
   "execution_count": 234,
   "metadata": {},
   "outputs": [
    {
     "data": {
      "image/png": "[encoded data removed]",
      "text/plain": [
       "<Figure size 720x720 with 1 Axes>"
      ]
     },
     "metadata": {
      "needs_background": "light"
     },
     "output_type": "display_data"
    }
   ],
   "source": [
    "plt.figure()\n",
    "\n",
    "p = sns.histplot(b_ue, bins=16, stat='density', fc=(0, 0, 1, 0.25), edgecolor=\"#7a7d89\")\n",
    "\n",
    "# anotações\n",
    "plt.annotate('intervalo de confiança' ,xy=(0.01, 0.5), xycoords='axes fraction', fontsize=10, weight='bold', color='black',\n",
    "                 xytext=(0.07, 0.5),  arrowprops=dict(arrowstyle=\"->\", color='black'))\n",
    "plt.annotate('da OPEP = [0,0]' ,xy=(0.1, 0.48), xycoords='axes fraction', fontsize=10, weight='bold', color='black')\n",
    "\n",
    "# fonte: https://stackoverflow.com/questions/62737627/how-to-specify-the-color-for-a-partial-histogram-patch\n",
    "for rectangle in p.patches:\n",
    "    if rectangle.get_x() >= 0.6 and rectangle.get_x() < 0.88:\n",
    "        rectangle.set_facecolor((1, 0, 0, 0.25))\n",
    "\n",
    "# linhas dos limites\n",
    "plt.vlines(0.6, 0, 0.8184, color='r', linestyles='solid',label='limites do intervalo de confiança da UE')\n",
    "plt.vlines(0.88, 0, 2.0, color='r', linestyles='solid')\n",
    "\n",
    "plt.title('Distribuição da probabilidade de ser avançado em cada bloco', fontsize=16)\n",
    "plt.legend()\n",
    "plt.ylabel('Densidade')\n",
    "plt.xlabel('P (avançado|bloco)')\n",
    "plt.show()"
   ]
  },
  {
   "cell_type": "markdown",
   "metadata": {},
   "source": [
    "**ANÁLISE**"
   ]
  },
  {
   "cell_type": "markdown",
   "metadata": {},
   "source": [
    "Anteriormente, foi estabelecido critério para classificar os países presentes na União Europeia (UE) e Organização dos Países Exportadores de Petróleo (OPEP) como “avançados” ou “atrasados”. Uma das ferramentas utilizadas para verificar sua operacionalidade no controle estatístico de qualidade foi o bootstrap. Por definição, o bootstrap [“estima a distribuição de amostragem que coleta várias amostras com reposição de uma amostra aleatória única. Essas amostras repetidas são chamadas reamostras. Cada reamostra é do mesmo tamanho da amostra original”](https://support.minitab.com/pt-br/minitab/20/help-and-how-to/probability-distributions-random-data-and-resampling-analyses/supporting-topics/resampling-analyses/what-is-bootstrapping/). \n",
    "\n",
    "A partir de cada uma dessas reamostragens foi calculada a probabilidade de um elemento da reamostra ser avançado dado que ele pertence ao seu respectivo bloco. Baseado nesse conjunto de probabilidades, foi determinado um intervalo de confiança de 90% ao definir os limites como o percentil de 5% e o outro de 95%. Dessa forma, enquanto o intervalo da UE foi de 0.6 a 0.88, o da OPEP foi de 0 a 0.\n",
    "\n",
    "Ao analisar os resultados obtidos através do bootstrap, é possível notar que não há sobreposição dos intervalos de confiança. Essa disparidade entre os limites ocorreu devido ao fato de que na OPEP não há países classificados como “avançados”, ou seja, a probabilidade calculada sempre resultará em 0. Assim, podemos inferir com segurança que os países da UE são tipicamente mais “avançados” que os da OPEP em relação ao indicador escolhido. \n"
   ]
  },
  {
   "cell_type": "markdown",
   "metadata": {},
   "source": [
    "**APS | Parte 3: Distribuições**\n",
    "\n",
    "**Tabela indicando quais foram as modificações feitas na entrega anterior para contemplar o feedback que foi recebido:**\n",
    "\n",
    "**FEEDBACK** \n",
    "\n",
    "Comentarios 1: \"Faltou calcular P(bloco | não-avançado)\"\n",
    "\n"
   ]
  },
  {
   "cell_type": "code",
   "execution_count": 214,
   "metadata": {},
   "outputs": [
    {
     "name": "stdout",
     "output_type": "stream",
     "text": [
      "P( União Europeia | não-avançado ) =  0.46153846153846156\n",
      "P( OPEP | não-avançado ) =  0.5384615384615384\n"
     ]
    }
   ],
   "source": [
    "# Calculo do P(bloco | não-avançado)\n",
    "\n",
    "# P( União Europeia | não-avançado )\n",
    "n_atrasadoEue = n_UE - n_avancadoEue\n",
    "P_atrasadoEue = n_atrasadoEue / n_total\n",
    "P_ue_dado_atrasado = P_atrasadoEue/ P_atrasado\n",
    "print('P( União Europeia | não-avançado ) = ', P_ue_dado_atrasado)\n",
    "\n",
    "# P( OPEP | não-avançado )\n",
    "n_atrasadoEopep = n_OPEP - n_avancadoEopep\n",
    "P_atrasadoEopep = n_atrasadoEopep / n_total\n",
    "P_opep_dado_atrasado = P_atrasadoEopep/ P_atrasado\n",
    "print('P( OPEP | não-avançado ) = ', P_opep_dado_atrasado)"
   ]
  }
 ],
 "metadata": {
  "kernelspec": {
   "display_name": "Python 3.10.2 64-bit",
   "language": "python",
   "name": "python3"
  },
  "language_info": {
   "codemirror_mode": {
    "name": "ipython",
    "version": 3
   },
   "file_extension": ".py",
   "mimetype": "text/x-python",
   "name": "python",
   "nbconvert_exporter": "python",
   "pygments_lexer": "ipython3",
   "version": "3.10.2"
  },
  "orig_nbformat": 4,
  "vscode": {
   "interpreter": {
    "hash": "6c48627603363f23ad911ec4a91dbb51af42bd99b325b2e172c6699ffcf25f74"
   }
  }
 },
 "nbformat": 4,
 "nbformat_minor": 2
}
